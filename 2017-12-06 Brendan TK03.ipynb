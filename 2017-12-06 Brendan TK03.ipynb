{
 "cells": [
  {
   "cell_type": "markdown",
   "metadata": {},
   "source": [
    "TK03 For Brendan Reilly\n",
    "=======================\n",
    "\n",
    "Uses Tauxe and Kent (2003) field model as implemented in PMAGPY (Tauxe et al. 2016). I use a latitude of 8 degrees N, but you can change this (see comment). Data are output as a CSV file. I'm not sure how this will work in Binder, but I can send the file just in case.\n"
   ]
  },
  {
   "cell_type": "code",
   "execution_count": null,
   "metadata": {
    "collapsed": true
   },
   "outputs": [],
   "source": [
    "# Packages to import\n",
    "import numpy as np\n",
    "import pandas as pd\n",
    "import matplotlib.pyplot as plt\n",
    "import pmagpy.ipmag as ipmag\n",
    "import pmagpy.pmag as pmag\n",
    "import pmagpy.pmagplotlib as pmagplotlib\n",
    "import scipy.stats.kde as kde \n",
    "%matplotlib inline\n",
    "%config InlineBackend.figure_formats = {'svg',}"
   ]
  },
  {
   "cell_type": "code",
   "execution_count": null,
   "metadata": {
    "collapsed": false
   },
   "outputs": [],
   "source": [
    "p=ipmag.tk03(n=1000,lat=8) # Change lat for a different latitude. \n",
    "D=pd.DataFrame(p)\n",
    "D.columns=['Dec','Inc','Int']\n",
    "dist_space = np.linspace( min(D.Inc), max(D.Inc), 100 )\n",
    "a,b,c=plt.hist(D.Inc,bins=dist_space,alpha=0.5,fc='k',label='TK03 Inclination',normed=True)\n",
    "ginc=kde.gaussian_kde(D.Inc)\n",
    "dis=plt.plot(dist_space,ginc(dist_space),'r-',label='Gaussian Kernel Density Estimate')\n",
    "plt.legend(loc='upper right', fontsize='small')\n",
    "plt.show()"
   ]
  },
  {
   "cell_type": "code",
   "execution_count": null,
   "metadata": {
    "collapsed": false
   },
   "outputs": [],
   "source": [
    "print 'Mean:',np.mean(D.Inc)\n",
    "print 'Median:',np.median(D.Inc)\n",
    "print 'Std Dev:',np.std(D.Inc)\n",
    "D.to_csv('2017-12-06_TK03_08N_Output.csv')"
   ]
  }
 ],
 "metadata": {
  "kernelspec": {
   "display_name": "Python 2",
   "language": "python",
   "name": "python2"
  },
  "language_info": {
   "codemirror_mode": {
    "name": "ipython",
    "version": 2
   },
   "file_extension": ".py",
   "mimetype": "text/x-python",
   "name": "python",
   "nbconvert_exporter": "python",
   "pygments_lexer": "ipython2",
   "version": "2.7.10"
  }
 },
 "nbformat": 4,
 "nbformat_minor": 0
}
