{
 "cells": [
  {
   "cell_type": "markdown",
   "metadata": {},
   "source": [
    "Using Python\n",
    "============"
   ]
  },
  {
   "cell_type": "code",
   "execution_count": null,
   "metadata": {
    "collapsed": true
   },
   "outputs": [],
   "source": [
    "# This is called a comment. Anything in the Python code cells below that starts with a # is just there to explain the code\n",
    "# for human readers. Python doesn't interpret it.\n",
    "# Code cells have an \"In []:\" next to them.\n",
    "# You can edit code cells if you download this file (File->Download As->Notebook) and open the .ipynb file in Canopy.\n",
    "# To run anything in a code cell, click it to highlight it, and press ctrl+enter"
   ]
  },
  {
   "cell_type": "markdown",
   "metadata": {},
   "source": [
    "This cell is written in [_markdown_](https://github.com/adam-p/markdown-here/wiki/Markdown-Cheatsheet#emphasis). You can edit it, too. Double click in this cell to see what the markdown text looks like, then press ctrl+enter to get back to the typeset version.\n",
    "You can also insert cells above and below here by selecting this cell and clicking the Insert->Insert Cell Below (or Above) menu at the top of the page. If you want those cells to be in markdown rather than code, type esc+m and click in the cell again to edit it."
   ]
  },
  {
   "cell_type": "code",
   "execution_count": null,
   "metadata": {
    "collapsed": false
   },
   "outputs": [],
   "source": [
    "print \"hello\""
   ]
  },
  {
   "cell_type": "markdown",
   "metadata": {},
   "source": [
    "I just told the computer to say \"Hello\""
   ]
  },
  {
   "cell_type": "markdown",
   "metadata": {},
   "source": [
    "You can use Python as a big expensive calculator"
   ]
  },
  {
   "cell_type": "code",
   "execution_count": null,
   "metadata": {
    "collapsed": false
   },
   "outputs": [],
   "source": [
    "2+2"
   ]
  },
  {
   "cell_type": "markdown",
   "metadata": {},
   "source": [
    "You can store numbers in variables:"
   ]
  },
  {
   "cell_type": "code",
   "execution_count": null,
   "metadata": {
    "collapsed": true
   },
   "outputs": [],
   "source": [
    "a = 10"
   ]
  },
  {
   "cell_type": "code",
   "execution_count": null,
   "metadata": {
    "collapsed": false
   },
   "outputs": [],
   "source": [
    "a # this outputs the value of a"
   ]
  },
  {
   "cell_type": "code",
   "execution_count": null,
   "metadata": {
    "collapsed": false
   },
   "outputs": [],
   "source": [
    "a+3"
   ]
  },
  {
   "cell_type": "markdown",
   "metadata": {},
   "source": [
    "Here is a list of numbers stored in a variable:"
   ]
  },
  {
   "cell_type": "code",
   "execution_count": null,
   "metadata": {
    "collapsed": false
   },
   "outputs": [],
   "source": [
    "b=[5,25]"
   ]
  },
  {
   "cell_type": "code",
   "execution_count": null,
   "metadata": {
    "collapsed": false
   },
   "outputs": [],
   "source": [
    "sum(b+b)"
   ]
  },
  {
   "cell_type": "markdown",
   "metadata": {},
   "source": [
    "The numpy package gives you more options of things to do with lists of numbers. These are called arrays in numpy:"
   ]
  },
  {
   "cell_type": "code",
   "execution_count": null,
   "metadata": {
    "collapsed": false
   },
   "outputs": [],
   "source": [
    "import numpy as np\n",
    "help(np)"
   ]
  },
  {
   "cell_type": "code",
   "execution_count": null,
   "metadata": {
    "collapsed": false
   },
   "outputs": [],
   "source": [
    "c=np.array([a]+b)\n",
    "d=np.arange(1,5)\n",
    "print'c=',c\n",
    "print 'd=',d"
   ]
  },
  {
   "cell_type": "markdown",
   "metadata": {},
   "source": [
    "The `np.concatenate` command sticks arrays together."
   ]
  },
  {
   "cell_type": "code",
   "execution_count": null,
   "metadata": {
    "collapsed": false
   },
   "outputs": [],
   "source": [
    "cd=np.concatenate((c,d,b)) # Note that you need parentheses around the group of lists you want to stick together\n",
    "print 'cd=',cd"
   ]
  },
  {
   "cell_type": "code",
   "execution_count": null,
   "metadata": {
    "collapsed": false
   },
   "outputs": [],
   "source": [
    "s=cd.reshape(3,3)\n",
    "print 's=\\n',s,'\\n... a 3x3 matrix' # '\\n' means 'Insert a new line here'"
   ]
  },
  {
   "cell_type": "code",
   "execution_count": null,
   "metadata": {
    "collapsed": false
   },
   "outputs": [],
   "source": [
    "mu,sigma=1,0.5\n",
    "mu2,sigma2=1.5,0.5\n",
    "r=np.random.normal(mu,sigma,500)\n",
    "r2=np.random.normal(mu2,sigma2,500)"
   ]
  },
  {
   "cell_type": "code",
   "execution_count": null,
   "metadata": {
    "collapsed": false
   },
   "outputs": [],
   "source": [
    "print 'sum of r =',np.sum(r)\n",
    "print 'sum of r2 = ',np.sum(r2)\n",
    "print 'mean of r =',np.mean(r)\n",
    "print 'mean of r2 = ',np.mean(r2)"
   ]
  },
  {
   "cell_type": "markdown",
   "metadata": {},
   "source": [
    "Matplotlib lets you plot things (note these show up as separate windows):"
   ]
  },
  {
   "cell_type": "code",
   "execution_count": null,
   "metadata": {
    "collapsed": false
   },
   "outputs": [],
   "source": [
    "import matplotlib.pyplot as plt\n",
    "n,bins,patches=plt.hist(r,50)\n",
    "plt.show()"
   ]
  },
  {
   "cell_type": "markdown",
   "metadata": {},
   "source": [
    "To get matplotlib windows to show up here, run these commands with the `%`s:"
   ]
  },
  {
   "cell_type": "code",
   "execution_count": null,
   "metadata": {
    "collapsed": false
   },
   "outputs": [],
   "source": [
    "%matplotlib inline\n",
    "%config InlineBackend.figure_formats = {'svg',}"
   ]
  },
  {
   "cell_type": "code",
   "execution_count": null,
   "metadata": {
    "collapsed": false
   },
   "outputs": [],
   "source": [
    "n,bins,patches=plt.hist(r,20,alpha=0.5) # This not only plots a histogram, but stores some useful info in a few variables\n",
    "n2,bins2,patches2=plt.hist(r2,bins=bins,alpha=0.5) # We use the 'bins' variable again here to plot the second histogram.\n",
    "plt.xlabel('Random Number')\n",
    "plt.ylabel('Number of occurrences')\n",
    "plt.show()"
   ]
  },
  {
   "cell_type": "code",
   "execution_count": null,
   "metadata": {
    "collapsed": false
   },
   "outputs": [],
   "source": [
    "plt.plot(r,r2,'k.')\n",
    "plt.axis('equal') # Same scale on both axes\n",
    "plt.xlabel('r')\n",
    "plt.ylabel('r2')\n",
    "plt.show()\n"
   ]
  },
  {
   "cell_type": "markdown",
   "metadata": {},
   "source": [
    "Complex things you can't do in Excel:"
   ]
  },
  {
   "cell_type": "code",
   "execution_count": null,
   "metadata": {
    "collapsed": false
   },
   "outputs": [],
   "source": [
    "import matplotlib.mlab as mlab\n",
    "from matplotlib import cm\n",
    "from mpl_toolkits.axes_grid1 import make_axes_locatable\n",
    "\n",
    "binwidth = 0.25\n",
    "xymax = np.max([np.max(r), np.max(r2)])\n",
    "xymin = np.min([np.min(r), np.min(r2)])\n",
    "bins = np.arange(xymin, xymax, binwidth) # Figure out bins for histograms\n",
    "with plt.style.context('ggplot'): # My favorite \"style\" for plots\n",
    "    fig, axScatter = plt.subplots(figsize=(5.5, 5.5)) # Scatter plot\n",
    "    plt.xlabel('Value of r')\n",
    "    plt.ylabel('Value of r2')\n",
    "    axScatter.hist2d(r,r2,cmap=cm.RdBu_r) # Red-blue color contours \n",
    "    axScatter.scatter(r, r2,alpha=0.3) # Scatter plot with translucent points\n",
    "    axScatter.set_aspect(1.)\n",
    "    divider = make_axes_locatable(axScatter) # Place other plots\n",
    "    axHistx = divider.append_axes(\"top\", 1.2, pad=0.15, sharex=axScatter)\n",
    "    axHisty = divider.append_axes(\"right\", 1.2, pad=0.15, sharey=axScatter)\n",
    "    plt.setp(axHistx.get_xticklabels() + axHisty.get_yticklabels(),\n",
    "             visible=False)\n",
    "    axHistx.hist(r, bins=bins,color='blue')\n",
    "    axHistx.set_ylabel('Count of r')\n",
    "    axHisty.hist(r2, bins=bins, orientation='horizontal',color='blue')\n",
    "    axHisty.set_xlabel('Count of r2')\n",
    "    plt.draw()\n",
    "    plt.show()"
   ]
  },
  {
   "cell_type": "markdown",
   "metadata": {},
   "source": [
    "Also: stats!"
   ]
  },
  {
   "cell_type": "code",
   "execution_count": null,
   "metadata": {
    "collapsed": false
   },
   "outputs": [],
   "source": [
    "from scipy import stats\n",
    "stats.ttest_ind(r,r2)"
   ]
  },
  {
   "cell_type": "markdown",
   "metadata": {},
   "source": [
    "A p-value below 0.05 indicates that r and r2 have different means, with statistical significance at the 95% level!"
   ]
  },
  {
   "cell_type": "markdown",
   "metadata": {},
   "source": [
    "Exercises\n",
    "---------\n",
    "1. Change the number of points in `r` and `r2` from 500 to 5000 and see what happens.\n",
    "2. Find where the `np.random.normal` function generates the list of random numbers in the variable `r`. Change the random numbers in `r` from a normal (Gaussian) distribution to a logistic distribution (`np.random.logistic`).\n",
    "3. Insert a new cell below. Generate 100 random numbers from a [Von Mises distribution](http://docs.scipy.org/doc/numpy/reference/routines.random.html) with a mu of 0 and a kappa of 1. Use `plt.subplot(111,projection='polar')` to create a polar plot, and make a [histogram](http://matplotlib.org/api/pyplot_api.html#matplotlib.pyplot.hist) of your random numbers (hint: use `bins=np.arange(-np.pi,np.pi,0.2)` in your histogram command to get bins of appropriate widths; don't forget `plt.show()`!). \n",
    "4. What happens if you change kappa in the previous question to 2? 5? 10?\n",
    "5. What happens if you use `np.concatenate` to stick two lists of von Mises-distributed numbers together, one with a mu of 0 and one with a mu of `np.pi/2`?"
   ]
  }
 ],
 "metadata": {
  "kernelspec": {
   "display_name": "Python 2",
   "language": "python",
   "name": "python2"
  },
  "language_info": {
   "codemirror_mode": {
    "name": "ipython",
    "version": 2
   },
   "file_extension": ".py",
   "mimetype": "text/x-python",
   "name": "python",
   "nbconvert_exporter": "python",
   "pygments_lexer": "ipython2",
   "version": "2.7.10"
  }
 },
 "nbformat": 4,
 "nbformat_minor": 0
}
